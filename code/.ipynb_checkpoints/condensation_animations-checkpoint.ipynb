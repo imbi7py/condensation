{
 "cells": [
  {
   "cell_type": "markdown",
   "metadata": {},
   "source": [
    "---\n",
    "# Coarse-Graining of Data via Inhomogeneous Diffusion Condensation\n",
    "---\n",
    "## Videos \n",
    "The notebook presented herein enables its users to generate videos associated to figures found in the article *Coarse-Graining of Data via Inhomogeneous Diffusion Condensation*. Videos are provided for corresponding still frames so one may explore frames on either side of a particular frame of interest. We hope this assists readers of our article in their development of intuition about the algorithm. \n",
    "\n",
    "To create a video, just follow these steps:\n",
    "\n",
    "1. Click `Kernel` in the menu bar above, and select `Restart & Clear Output`\n",
    "2. Choose an image of interest in the paper\n",
    "3. Enter the corresponding `string` for `image_name` in the cell below\n",
    "4. Run the cells, and enjoy the show!\n",
    "5. Repeat often"
   ]
  },
  {
   "cell_type": "code",
   "execution_count": null,
   "metadata": {},
   "outputs": [],
   "source": [
    "import Condensation as Condense\n",
    "import matplotlib.pyplot as plt \n",
    "import matplotlib.animation as animation\n",
    "from IPython.display import HTML\n",
    "import Spectral_condensation as SC\n",
    "\n",
    "## Enter one of the following names in between single quotes below (e.g., image_name = 'tree'):\n",
    "\n",
    "# tree\n",
    "# hyperuniform circle\n",
    "# hyperuniform ellipse\n",
    "# uniform circle\n",
    "# noisy tree\n",
    "\n",
    "image_name = 'hyperuniform ellipse'\n",
    "\n",
    "\n",
    "##-----------------------------------------------------------##\n",
    "## The following code does the rest -- no need to adjust!\n",
    "\n",
    "if image_name == 'tree':\n",
    "    im_case = 1\n",
    "    eps_mult = 1 # epsilon mulitiplier\n",
    "    spectra_save = False\n",
    "    \n",
    "elif image_name == 'hyperuniform circle':\n",
    "    im_case = 3\n",
    "    eps_mult = 2 # epsilon mulitiplier\n",
    "    spectra_save = False\n",
    "    \n",
    "elif image_name == 'hyperuniform ellipse':\n",
    "    im_case = 4 \n",
    "    eps_mult = 1 # epsilon mulitiplier\n",
    "    spectra_save = True\n",
    "    \n",
    "elif image_name == 'uniform circle':\n",
    "    im_case = 5\n",
    "    eps_mult = 8 # epsilon mulitiplier\n",
    "    spectra_save = False\n",
    "    \n",
    "elif image_name == 'noisy tree':\n",
    "    im_case = 6\n",
    "    eps_mult = 1 # epsilon mulitiplier\n",
    "    spectra_save = False\n",
    "\n",
    "\n",
    "anim, pdir, fname, N, vname, save_movie = Condense.make_animation(rseed=2387,\n",
    "                                                                       N=2**7,\n",
    "                                                                       eps_num = eps_mult,\n",
    "                                                                       eps_denom = 1,\n",
    "                                                                       case = im_case,\n",
    "                                                                       perturb_data = False,\n",
    "                                                                       std_dev = 0.05,\n",
    "                                                                       vname = 'example_0',\n",
    "                                                                       save_spectra = spectra_save,\n",
    "                                                                       spec_keep = 11,\n",
    "                                                                       save_movie = False,\n",
    "                                                                       save_stills = False,\n",
    "                                                                       frame_list = [0,15])\n",
    "\n",
    "# Sets formatting for movie files\n",
    "Writer = animation.writers['ffmpeg']\n",
    "writer = Writer(fps=20, metadata=dict(artist='Nathan Brugnone'), bitrate=1800)\n",
    "\n",
    "if save_movie == True:\n",
    "    anim.save(pdir+fname+'_'+str(N)+'pts_'+str(vname)+'.mp4', writer=writer)\n",
    "\n",
    "HTML(anim.to_jshtml())"
   ]
  },
  {
   "cell_type": "markdown",
   "metadata": {},
   "source": [
    "---\n",
    "## Spectral Decay\n",
    "---\n",
    "If one runs the following cell after running the above cell with `image_name = 'hyperuniform ellipse'`, the spectral decay graphs of the operators \n",
    "\n",
    "$$\\begin{align*}\n",
    "\\mathbf{P}^{(t)} &= \\mathbf{P}_{t}\\mathbf{P}_{t-1}\\ldots\\mathbf{P}_{1}\\mathbf{P}_{0}\n",
    "\\end{align*}\n",
    "$$ \n",
    "\n",
    "(concatenated condesnation operator), $\\mathbf{P}_{t}$ ($t^{th}$ diffuion operator), and $\\mathbf{P}^t$ ($t^{th}$ iteration of diffusion maps) will be produced in figure positions *top*, *middle*, and *bottom*, respectively. (**Note**: This produces the spectral decay graphs for the hyperuniformly-sample ellipse, which appears our the article.)"
   ]
  },
  {
   "cell_type": "code",
   "execution_count": null,
   "metadata": {},
   "outputs": [],
   "source": [
    "%matplotlib inline\n",
    "SC.spectral_decay()"
   ]
  },
  {
   "cell_type": "markdown",
   "metadata": {},
   "source": [
    "---\n",
    "View our paper on *arXiv* at ***URL Coming Soon***."
   ]
  }
 ],
 "metadata": {
  "kernelspec": {
   "display_name": "Python 3",
   "language": "python",
   "name": "python3"
  },
  "language_info": {
   "codemirror_mode": {
    "name": "ipython",
    "version": 3
   },
   "file_extension": ".py",
   "mimetype": "text/x-python",
   "name": "python",
   "nbconvert_exporter": "python",
   "pygments_lexer": "ipython3",
   "version": "3.6.5"
  }
 },
 "nbformat": 4,
 "nbformat_minor": 2
}
